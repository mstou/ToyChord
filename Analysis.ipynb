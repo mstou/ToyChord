{
 "cells": [
  {
   "cell_type": "code",
   "execution_count": 1,
   "metadata": {},
   "outputs": [],
   "source": [
    "from os import walk\n",
    "import pandas as pd\n",
    "from numpy import mean\n",
    "import matplotlib.pyplot as plt\n",
    "import seaborn as sns"
   ]
  },
  {
   "cell_type": "markdown",
   "metadata": {},
   "source": [
    "## get mean values for all confgurations in 12 - not useful any more"
   ]
  },
  {
   "cell_type": "code",
   "execution_count": 2,
   "metadata": {},
   "outputs": [],
   "source": [
    "# _, _, filenames = next(walk('./test_results/12/'))\n",
    "# configurations = []\n",
    "# count = 2\n",
    "# insertions_durations = {} # {(k, consistency): [times]}\n",
    "# queries_durations = {} # {(k, consistency): [times]}\n",
    "# for filename in filenames:\n",
    "#     k, consistency = filename.split('_')[:2]\n",
    "#     configuration = (k, consistency)\n",
    "#     configurations.append(configuration)\n",
    "#     with open(f'./test_results/12/{filename}') as f:\n",
    "#         insertions_duration = float(f.readline().strip('\\n').split(' ')[1])\n",
    "#         queries_duration = float(f.readline().strip('\\n').split(' ')[1])\n",
    "\n",
    "#         if configuration not in insertions_durations:\n",
    "#             insertions_durations[configuration] = []\n",
    "#         else:\n",
    "#             insertions_durations[configuration].append(insertions_duration)\n",
    "            \n",
    "#         if configuration not in queries_durations:\n",
    "#             queries_durations[configuration] = []\n",
    "#         else:\n",
    "#             queries_durations[configuration].append(queries_duration)"
   ]
  },
  {
   "cell_type": "code",
   "execution_count": 3,
   "metadata": {},
   "outputs": [],
   "source": [
    "# # mean times for each configuration in new txt file\n",
    "# for configuration in configurations:\n",
    "#     k, consistency = configuration\n",
    "#     with open(f'./test_results/3/mean/{k}_{consistency}.txt', 'w') as f:\n",
    "#         f.write(f'Insertions: {mean(insertions_durations[configuration])}\\n')\n",
    "#         f.write(f'Queries: {mean(queries_durations[configuration])}\\n')"
   ]
  },
  {
   "cell_type": "markdown",
   "metadata": {},
   "source": [
    "## get mean values for all confgurations in 3 - not useful any more"
   ]
  },
  {
   "cell_type": "code",
   "execution_count": 4,
   "metadata": {},
   "outputs": [],
   "source": [
    "# _, _, filenames = next(walk('./test_results/3/'))\n",
    "# configurations = []\n",
    "# requests_durations = {} # {(k, consistency): [durations]}\n",
    "# stale_reads = {} # {(k, consistency): [stale_reads]}\n",
    "# for filename in filenames:\n",
    "#     k, consistency = filename.split('_')[:2]\n",
    "#     configuration = (k, consistency)\n",
    "#     configurations.append(configuration)\n",
    "#     with open(f'./test_results/3/{filename}') as f:\n",
    "#         requests_duration = float(f.readline().strip('\\n'))\n",
    "#         stale_readz = int(f.readline().strip('\\n').split(' ')[2])\n",
    "\n",
    "#         if configuration not in requests_durations:\n",
    "#             requests_durations[configuration] = []\n",
    "#         else:\n",
    "#             requests_durations[configuration].append(requests_duration)\n",
    "            \n",
    "#         if configuration not in stale_reads:\n",
    "#             stale_reads[configuration] = []\n",
    "#         else:\n",
    "#             stale_reads[configuration].append(stale_readz)"
   ]
  },
  {
   "cell_type": "code",
   "execution_count": 5,
   "metadata": {},
   "outputs": [],
   "source": [
    "# # mean times for each configuration in new txt file\n",
    "# for configuration in configurations:\n",
    "#     k, consistency = configuration\n",
    "#     with open(f'./test_results/3/mean/{k}_{consistency}.txt', 'w') as f:\n",
    "#         f.write(f'{mean(requests_durations[configuration])}\\n')\n",
    "#         f.write(f'Stale reads: {mean(stale_reads[configuration])}\\n')"
   ]
  },
  {
   "cell_type": "markdown",
   "metadata": {},
   "source": [
    "# Create the main dataframe"
   ]
  },
  {
   "cell_type": "code",
   "execution_count": 7,
   "metadata": {},
   "outputs": [],
   "source": [
    "df = pd.DataFrame(columns=['type', 'n_replicas', 'consistency', 'duration', 'stale_reads'])\n",
    "\n",
    "# insertions and queries\n",
    "_, _, filenames = next(walk('./test_results/12/'))\n",
    "for filename in filenames:\n",
    "    k, consistency = filename.strip('.txt').split('_')[:2]\n",
    "    with open('./test_results/12/' + filename) as f:\n",
    "        insertions_duration = float(f.readline().strip('\\n').split(' ')[1])\n",
    "        df = df.append({\n",
    "            'type': 'insertions',\n",
    "            'n_replicas': int(k),\n",
    "            'consistency': consistency,\n",
    "            'duration': insertions_duration,\n",
    "        }, ignore_index = True)\n",
    "        \n",
    "        queries_duration = float(f.readline().strip('\\n').split(' ')[1])\n",
    "        df = df.append({\n",
    "            'type': 'queries',\n",
    "            'n_replicas': int(k),\n",
    "            'consistency': consistency,\n",
    "            'duration': queries_duration,\n",
    "        }, ignore_index = True)\n",
    "\n",
    "# requests\n",
    "_, _, filenames = next(walk('./test_results/3/'))\n",
    "for filename in filenames:\n",
    "    k, consistency = filename.strip('.txt').split('_')[:2]\n",
    "    with open('./test_results/3/' + filename) as f:\n",
    "        requests_duration = float(f.readline().strip('\\n'))\n",
    "        stale_reads = float(f.readline().strip('\\n').split(' ')[2])\n",
    "        df = df.append({\n",
    "            'type': 'requests',\n",
    "            'n_replicas': int(k),\n",
    "            'consistency': consistency,\n",
    "            'duration': requests_duration,\n",
    "            'stale_reads': stale_reads,\n",
    "        }, ignore_index = True)"
   ]
  },
  {
   "cell_type": "code",
   "execution_count": 8,
   "metadata": {},
   "outputs": [],
   "source": [
    "df = df.sort_values('n_replicas')"
   ]
  },
  {
   "cell_type": "code",
   "execution_count": 9,
   "metadata": {},
   "outputs": [],
   "source": [
    "df_insertions = df[df['type'] == 'insertions']\n",
    "df_queries = df[df['type'] == 'queries']\n",
    "df_requests = df[df['type'] == 'requests']"
   ]
  },
  {
   "cell_type": "code",
   "execution_count": 10,
   "metadata": {},
   "outputs": [
    {
     "data": {
      "text/html": [
       "<div>\n",
       "<style scoped>\n",
       "    .dataframe tbody tr th:only-of-type {\n",
       "        vertical-align: middle;\n",
       "    }\n",
       "\n",
       "    .dataframe tbody tr th {\n",
       "        vertical-align: top;\n",
       "    }\n",
       "\n",
       "    .dataframe thead th {\n",
       "        text-align: right;\n",
       "    }\n",
       "</style>\n",
       "<table border=\"1\" class=\"dataframe\">\n",
       "  <thead>\n",
       "    <tr style=\"text-align: right;\">\n",
       "      <th></th>\n",
       "      <th>type</th>\n",
       "      <th>n_replicas</th>\n",
       "      <th>consistency</th>\n",
       "      <th>duration</th>\n",
       "      <th>stale_reads</th>\n",
       "    </tr>\n",
       "  </thead>\n",
       "  <tbody>\n",
       "    <tr>\n",
       "      <th>54</th>\n",
       "      <td>requests</td>\n",
       "      <td>1</td>\n",
       "      <td>linearizability</td>\n",
       "      <td>14.357336</td>\n",
       "      <td>0.00</td>\n",
       "    </tr>\n",
       "    <tr>\n",
       "      <th>49</th>\n",
       "      <td>requests</td>\n",
       "      <td>1</td>\n",
       "      <td>eventual</td>\n",
       "      <td>15.746613</td>\n",
       "      <td>0.00</td>\n",
       "    </tr>\n",
       "    <tr>\n",
       "      <th>42</th>\n",
       "      <td>requests</td>\n",
       "      <td>2</td>\n",
       "      <td>eventual</td>\n",
       "      <td>15.141470</td>\n",
       "      <td>0.00</td>\n",
       "    </tr>\n",
       "    <tr>\n",
       "      <th>52</th>\n",
       "      <td>requests</td>\n",
       "      <td>2</td>\n",
       "      <td>linearizability</td>\n",
       "      <td>17.510765</td>\n",
       "      <td>0.00</td>\n",
       "    </tr>\n",
       "    <tr>\n",
       "      <th>46</th>\n",
       "      <td>requests</td>\n",
       "      <td>3</td>\n",
       "      <td>eventual</td>\n",
       "      <td>14.143795</td>\n",
       "      <td>0.00</td>\n",
       "    </tr>\n",
       "    <tr>\n",
       "      <th>53</th>\n",
       "      <td>requests</td>\n",
       "      <td>3</td>\n",
       "      <td>linearizability</td>\n",
       "      <td>20.192955</td>\n",
       "      <td>0.00</td>\n",
       "    </tr>\n",
       "    <tr>\n",
       "      <th>45</th>\n",
       "      <td>requests</td>\n",
       "      <td>4</td>\n",
       "      <td>eventual</td>\n",
       "      <td>12.246307</td>\n",
       "      <td>3.75</td>\n",
       "    </tr>\n",
       "    <tr>\n",
       "      <th>59</th>\n",
       "      <td>requests</td>\n",
       "      <td>4</td>\n",
       "      <td>linearizability</td>\n",
       "      <td>22.255804</td>\n",
       "      <td>0.00</td>\n",
       "    </tr>\n",
       "    <tr>\n",
       "      <th>43</th>\n",
       "      <td>requests</td>\n",
       "      <td>5</td>\n",
       "      <td>eventual</td>\n",
       "      <td>10.829226</td>\n",
       "      <td>6.00</td>\n",
       "    </tr>\n",
       "    <tr>\n",
       "      <th>58</th>\n",
       "      <td>requests</td>\n",
       "      <td>5</td>\n",
       "      <td>linearizability</td>\n",
       "      <td>24.804585</td>\n",
       "      <td>0.00</td>\n",
       "    </tr>\n",
       "    <tr>\n",
       "      <th>50</th>\n",
       "      <td>requests</td>\n",
       "      <td>6</td>\n",
       "      <td>eventual</td>\n",
       "      <td>9.392586</td>\n",
       "      <td>11.75</td>\n",
       "    </tr>\n",
       "    <tr>\n",
       "      <th>56</th>\n",
       "      <td>requests</td>\n",
       "      <td>6</td>\n",
       "      <td>linearizability</td>\n",
       "      <td>26.714852</td>\n",
       "      <td>0.00</td>\n",
       "    </tr>\n",
       "    <tr>\n",
       "      <th>55</th>\n",
       "      <td>requests</td>\n",
       "      <td>7</td>\n",
       "      <td>linearizability</td>\n",
       "      <td>29.041802</td>\n",
       "      <td>0.00</td>\n",
       "    </tr>\n",
       "    <tr>\n",
       "      <th>51</th>\n",
       "      <td>requests</td>\n",
       "      <td>7</td>\n",
       "      <td>eventual</td>\n",
       "      <td>8.454958</td>\n",
       "      <td>19.00</td>\n",
       "    </tr>\n",
       "    <tr>\n",
       "      <th>41</th>\n",
       "      <td>requests</td>\n",
       "      <td>8</td>\n",
       "      <td>eventual</td>\n",
       "      <td>7.092223</td>\n",
       "      <td>31.50</td>\n",
       "    </tr>\n",
       "    <tr>\n",
       "      <th>48</th>\n",
       "      <td>requests</td>\n",
       "      <td>8</td>\n",
       "      <td>linearizability</td>\n",
       "      <td>31.197065</td>\n",
       "      <td>0.00</td>\n",
       "    </tr>\n",
       "    <tr>\n",
       "      <th>40</th>\n",
       "      <td>requests</td>\n",
       "      <td>9</td>\n",
       "      <td>eventual</td>\n",
       "      <td>7.195774</td>\n",
       "      <td>38.00</td>\n",
       "    </tr>\n",
       "    <tr>\n",
       "      <th>47</th>\n",
       "      <td>requests</td>\n",
       "      <td>9</td>\n",
       "      <td>linearizability</td>\n",
       "      <td>34.640067</td>\n",
       "      <td>0.00</td>\n",
       "    </tr>\n",
       "    <tr>\n",
       "      <th>44</th>\n",
       "      <td>requests</td>\n",
       "      <td>10</td>\n",
       "      <td>eventual</td>\n",
       "      <td>6.830800</td>\n",
       "      <td>52.75</td>\n",
       "    </tr>\n",
       "    <tr>\n",
       "      <th>57</th>\n",
       "      <td>requests</td>\n",
       "      <td>10</td>\n",
       "      <td>linearizability</td>\n",
       "      <td>35.501631</td>\n",
       "      <td>0.00</td>\n",
       "    </tr>\n",
       "  </tbody>\n",
       "</table>\n",
       "</div>"
      ],
      "text/plain": [
       "        type n_replicas      consistency   duration  stale_reads\n",
       "54  requests          1  linearizability  14.357336         0.00\n",
       "49  requests          1         eventual  15.746613         0.00\n",
       "42  requests          2         eventual  15.141470         0.00\n",
       "52  requests          2  linearizability  17.510765         0.00\n",
       "46  requests          3         eventual  14.143795         0.00\n",
       "53  requests          3  linearizability  20.192955         0.00\n",
       "45  requests          4         eventual  12.246307         3.75\n",
       "59  requests          4  linearizability  22.255804         0.00\n",
       "43  requests          5         eventual  10.829226         6.00\n",
       "58  requests          5  linearizability  24.804585         0.00\n",
       "50  requests          6         eventual   9.392586        11.75\n",
       "56  requests          6  linearizability  26.714852         0.00\n",
       "55  requests          7  linearizability  29.041802         0.00\n",
       "51  requests          7         eventual   8.454958        19.00\n",
       "41  requests          8         eventual   7.092223        31.50\n",
       "48  requests          8  linearizability  31.197065         0.00\n",
       "40  requests          9         eventual   7.195774        38.00\n",
       "47  requests          9  linearizability  34.640067         0.00\n",
       "44  requests         10         eventual   6.830800        52.75\n",
       "57  requests         10  linearizability  35.501631         0.00"
      ]
     },
     "execution_count": 10,
     "metadata": {},
     "output_type": "execute_result"
    }
   ],
   "source": [
    "df_requests"
   ]
  },
  {
   "cell_type": "code",
   "execution_count": 46,
   "metadata": {},
   "outputs": [
    {
     "data": {
      "image/png": "[encoded data removed]",
      "text/plain": [
       "<Figure size 685.742x360 with 1 Axes>"
      ]
     },
     "metadata": {
      "needs_background": "light"
     },
     "output_type": "display_data"
    }
   ],
   "source": [
    "sns.relplot(\n",
    "    data = df_requests,\n",
    "    x = 'n_replicas',\n",
    "    y = 'duration',\n",
    "    hue = 'consistency',\n",
    "    kind = 'scatter',\n",
    "    height = 5,\n",
    "    aspect = 1.61803399,\n",
    ")\n",
    "plt.ylabel('Duration (s)')\n",
    "plt.xlabel('Number of replicas')\n",
    "plt.xticks(list(range(1, 11)))\n",
    "plt.title('Requests')\n",
    "plt.savefig('./test_results/plots/requests.png', bbox_inches=\"tight\")\n",
    "plt.show()"
   ]
  },
  {
   "cell_type": "code",
   "execution_count": 47,
   "metadata": {},
   "outputs": [
    {
     "data": {
      "image/png": "[encoded data removed]",
      "text/plain": [
       "<Figure size 685.742x360 with 1 Axes>"
      ]
     },
     "metadata": {
      "needs_background": "light"
     },
     "output_type": "display_data"
    }
   ],
   "source": [
    "sns.relplot(\n",
    "    data = df_requests,\n",
    "    x = 'n_replicas',\n",
    "    y = 'stale_reads',\n",
    "    hue = 'consistency',\n",
    "    kind = 'scatter',\n",
    "    height = 5,\n",
    "    aspect = 1.61803399,\n",
    ")\n",
    "plt.ylabel('# Stale reads')\n",
    "plt.xlabel('Number of replicas')\n",
    "plt.xticks(list(range(1, 11)))\n",
    "plt.title('Requests stale reads')\n",
    "plt.savefig('./test_results/plots/stale_reads.png', bbox_inches=\"tight\")\n",
    "plt.show()"
   ]
  },
  {
   "cell_type": "code",
   "execution_count": 48,
   "metadata": {},
   "outputs": [
    {
     "data": {
      "image/png": "[encoded data removed]",
      "text/plain": [
       "<Figure size 685.742x360 with 1 Axes>"
      ]
     },
     "metadata": {
      "needs_background": "light"
     },
     "output_type": "display_data"
    }
   ],
   "source": [
    "sns.relplot(\n",
    "    data = df_queries,\n",
    "    x = 'n_replicas',\n",
    "    y = 'duration',\n",
    "    hue = 'consistency',\n",
    "    kind = 'scatter',\n",
    "    height = 5,\n",
    "    aspect = 1.61803399,\n",
    ")\n",
    "plt.ylabel('Duration (s)')\n",
    "plt.xlabel('Number of replicas')\n",
    "plt.xticks(list(range(1, 11)))\n",
    "plt.title('Queries')\n",
    "plt.savefig('./test_results/plots/queries.png', bbox_inches=\"tight\")\n",
    "plt.show()"
   ]
  },
  {
   "cell_type": "code",
   "execution_count": 49,
   "metadata": {},
   "outputs": [
    {
     "data": {
      "image/png": "[encoded data removed]",
      "text/plain": [
       "<Figure size 685.742x360 with 1 Axes>"
      ]
     },
     "metadata": {
      "needs_background": "light"
     },
     "output_type": "display_data"
    }
   ],
   "source": [
    "sns.relplot(\n",
    "    data = df_insertions,\n",
    "    x = 'n_replicas',\n",
    "    y = 'duration',\n",
    "    hue = 'consistency',\n",
    "    kind = 'scatter',\n",
    "    height = 5,\n",
    "    aspect = 1.61803399,\n",
    ")\n",
    "plt.ylabel('Duration (s)')\n",
    "plt.xlabel('Number of replicas')\n",
    "plt.xticks(list(range(1, 11)))\n",
    "plt.title('Insertions')\n",
    "plt.savefig('./test_results/plots/insertions.png', bbox_inches=\"tight\")\n",
    "plt.show()"
   ]
  },
  {
   "cell_type": "code",
   "execution_count": null,
   "metadata": {},
   "outputs": [],
   "source": []
  }
 ],
 "metadata": {
  "kernelspec": {
   "display_name": "Python 3",
   "language": "python",
   "name": "python3"
  },
  "language_info": {
   "codemirror_mode": {
    "name": "ipython",
    "version": 3
   },
   "file_extension": ".py",
   "mimetype": "text/x-python",
   "name": "python",
   "nbconvert_exporter": "python",
   "pygments_lexer": "ipython3",
   "version": "3.9.1"
  }
 },
 "nbformat": 4,
 "nbformat_minor": 4
}
